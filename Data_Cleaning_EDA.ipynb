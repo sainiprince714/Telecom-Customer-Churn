{
 "cells": [
  {
   "cell_type": "code",
   "execution_count": 1,
   "id": "b2df4d70-d571-4d2c-874e-71fe144ee321",
   "metadata": {},
   "outputs": [
    {
     "data": {
      "text/plain": [
       "'C:\\\\spark\\\\spark-3.4.2-bin-hadoop3'"
      ]
     },
     "execution_count": 1,
     "metadata": {},
     "output_type": "execute_result"
    }
   ],
   "source": [
    "import findspark\n",
    "findspark.init()\n",
    "findspark.find()"
   ]
  },
  {
   "cell_type": "code",
   "execution_count": 2,
   "id": "89113b8d-c6ba-4747-8be7-1e42652c65e6",
   "metadata": {},
   "outputs": [],
   "source": [
    "#PySpark Libraries\n",
    "from pyspark.ml.feature import Imputer\n",
    "from pyspark.sql.functions import *\n",
    "from pyspark.sql.types import * \n",
    "import pandas as pd\n",
    "from pyspark.sql import SparkSession, SQLContext\n",
    "from pyspark import SparkConf, SparkContext\n",
    "from pyspark import SparkFiles"
   ]
  },
  {
   "cell_type": "code",
   "execution_count": 3,
   "id": "6c729c66-dd42-4ef3-b7f1-91b2f45bec96",
   "metadata": {},
   "outputs": [],
   "source": [
    "# Create a Spark session\n",
    "spark = SparkSession.\\\n",
    "    builder.\\\n",
    "    appName(\"TelecomCustomerChurn_Cleaning_EDA\").\\\n",
    "    config(\"spark.jars.packages\", \"org.mongodb.spark:mongo-spark-connector_2.12:3.0.0\").\\\n",
    "    getOrCreate()"
   ]
  },
  {
   "cell_type": "code",
   "execution_count": 4,
   "id": "47e323bd-41f1-4445-834f-ba2f9a453ed0",
   "metadata": {},
   "outputs": [
    {
     "data": {
      "text/html": [
       "\n",
       "            <div>\n",
       "                <p><b>SparkSession - in-memory</b></p>\n",
       "                \n",
       "        <div>\n",
       "            <p><b>SparkContext</b></p>\n",
       "\n",
       "            <p><a href=\"http://localhost:4040\">Spark UI</a></p>\n",
       "\n",
       "            <dl>\n",
       "              <dt>Version</dt>\n",
       "                <dd><code>v3.4.2</code></dd>\n",
       "              <dt>Master</dt>\n",
       "                <dd><code>local[*]</code></dd>\n",
       "              <dt>AppName</dt>\n",
       "                <dd><code>TelecomCustomerChurn_Cleaning_EDA</code></dd>\n",
       "            </dl>\n",
       "        </div>\n",
       "        \n",
       "            </div>\n",
       "        "
      ],
      "text/plain": [
       "<pyspark.sql.session.SparkSession at 0x1395bac9760>"
      ]
     },
     "execution_count": 4,
     "metadata": {},
     "output_type": "execute_result"
    }
   ],
   "source": [
    "spark"
   ]
  },
  {
   "cell_type": "markdown",
   "id": "63f4c1d5-cde5-48c7-a018-9c0a9b94a1c2",
   "metadata": {},
   "source": [
    "## Data Cleaning"
   ]
  },
  {
   "cell_type": "code",
   "execution_count": 6,
   "id": "34682b80-3553-4ecb-956c-b53f98c1f843",
   "metadata": {},
   "outputs": [],
   "source": [
    "# give the appropirate datatype to the columns of the data.\n",
    "schema = StructType(\n",
    "                        [\n",
    "                            StructField(\"customerID\", StringType(), True),\n",
    "                            StructField(\"gender\", StringType(), True),\n",
    "                            StructField(\"SeniorCitizen\", StringType(), True),\n",
    "                            StructField(\"Partner\", StringType(), True),\n",
    "                            StructField(\"Dependents\", StringType(), True),\n",
    "                            StructField(\"tenure\", DoubleType(), True),\n",
    "                            StructField(\"PhoneService\", StringType(), True),\n",
    "                            StructField(\"MultipleLines\", StringType(), True),\n",
    "                            StructField(\"InternetService\", StringType(), True),\n",
    "                            StructField(\"OnlineSecurity\", StringType(), True),\n",
    "                            StructField(\"OnlineBackup\", StringType(), True),\n",
    "                            StructField(\"DeviceProtection\", StringType(), True),\n",
    "                            StructField(\"TechSupport\", StringType(), True),\n",
    "                            StructField(\"StreamingTV\", StringType(), True),\n",
    "                            StructField(\"StreamingMovies\", StringType(), True),\n",
    "                            StructField(\"Contract\", StringType(), True),\n",
    "                            StructField(\"PaperlessBilling\", StringType(), True),\n",
    "                            StructField(\"PaymentMethod\", StringType(), True),\n",
    "                            StructField(\"MonthlyCharges\", DoubleType(), True),\n",
    "                            StructField(\"TotalCharges\", DoubleType(), True),\n",
    "                            StructField(\"Churn\", StringType(), True),\n",
    "                        ]\n",
    "                    )"
   ]
  },
  {
   "cell_type": "code",
   "execution_count": 7,
   "id": "a0bea2e9-90a7-4321-9392-38630ebd9e08",
   "metadata": {},
   "outputs": [],
   "source": [
    "# Load the dataset\n",
    "data_path = \"telecome__churn__data.csv\" \n",
    "churn_data = spark.read.csv(data_path,  schema= schema ,header= True, nullValue= \" \")"
   ]
  },
  {
   "cell_type": "code",
   "execution_count": 8,
   "id": "74944640-0ad4-4fe3-80b9-99a18c8ed5f7",
   "metadata": {},
   "outputs": [
    {
     "name": "stdout",
     "output_type": "stream",
     "text": [
      "-RECORD 0----------------------------\n",
      " customerID       | 7590-VHVEG       \n",
      " gender           | Female           \n",
      " SeniorCitizen    | 0                \n",
      " Partner          | Yes              \n",
      " Dependents       | No               \n",
      " tenure           | 1.0              \n",
      " PhoneService     | No               \n",
      " MultipleLines    | No phone service \n",
      " InternetService  | DSL              \n",
      " OnlineSecurity   | No               \n",
      " OnlineBackup     | Yes              \n",
      " DeviceProtection | No               \n",
      " TechSupport      | No               \n",
      " StreamingTV      | No               \n",
      " StreamingMovies  | No               \n",
      " Contract         | Month-to-month   \n",
      " PaperlessBilling | Yes              \n",
      " PaymentMethod    | Electronic check \n",
      " MonthlyCharges   | 29.85            \n",
      " TotalCharges     | 29.85            \n",
      " Churn            | No               \n",
      "-RECORD 1----------------------------\n",
      " customerID       | 5575-GNVDE       \n",
      " gender           | Male             \n",
      " SeniorCitizen    | 0                \n",
      " Partner          | No               \n",
      " Dependents       | No               \n",
      " tenure           | 34.0             \n",
      " PhoneService     | Yes              \n",
      " MultipleLines    | No               \n",
      " InternetService  | DSL              \n",
      " OnlineSecurity   | Yes              \n",
      " OnlineBackup     | No               \n",
      " DeviceProtection | Yes              \n",
      " TechSupport      | No               \n",
      " StreamingTV      | No               \n",
      " StreamingMovies  | No               \n",
      " Contract         | One year         \n",
      " PaperlessBilling | No               \n",
      " PaymentMethod    | Mailed check     \n",
      " MonthlyCharges   | 56.95            \n",
      " TotalCharges     | 1889.5           \n",
      " Churn            | No               \n",
      "-RECORD 2----------------------------\n",
      " customerID       | 3668-QPYBK       \n",
      " gender           | Male             \n",
      " SeniorCitizen    | 0                \n",
      " Partner          | No               \n",
      " Dependents       | No               \n",
      " tenure           | 2.0              \n",
      " PhoneService     | Yes              \n",
      " MultipleLines    | No               \n",
      " InternetService  | DSL              \n",
      " OnlineSecurity   | Yes              \n",
      " OnlineBackup     | Yes              \n",
      " DeviceProtection | No               \n",
      " TechSupport      | No               \n",
      " StreamingTV      | No               \n",
      " StreamingMovies  | No               \n",
      " Contract         | Month-to-month   \n",
      " PaperlessBilling | Yes              \n",
      " PaymentMethod    | Mailed check     \n",
      " MonthlyCharges   | 53.85            \n",
      " TotalCharges     | 108.15           \n",
      " Churn            | Yes              \n",
      "only showing top 3 rows\n",
      "\n"
     ]
    }
   ],
   "source": [
    "# Show the first 5 rows of the dataframe\n",
    "# churn_data.show(5)\n",
    "churn_data.show(3, truncate=False, vertical=True)"
   ]
  },
  {
   "cell_type": "code",
   "execution_count": 9,
   "id": "5010319e-8705-41ec-9491-dca3c513c233",
   "metadata": {},
   "outputs": [
    {
     "name": "stdout",
     "output_type": "stream",
     "text": [
      "root\n",
      " |-- customerID: string (nullable = true)\n",
      " |-- gender: string (nullable = true)\n",
      " |-- SeniorCitizen: string (nullable = true)\n",
      " |-- Partner: string (nullable = true)\n",
      " |-- Dependents: string (nullable = true)\n",
      " |-- tenure: double (nullable = true)\n",
      " |-- PhoneService: string (nullable = true)\n",
      " |-- MultipleLines: string (nullable = true)\n",
      " |-- InternetService: string (nullable = true)\n",
      " |-- OnlineSecurity: string (nullable = true)\n",
      " |-- OnlineBackup: string (nullable = true)\n",
      " |-- DeviceProtection: string (nullable = true)\n",
      " |-- TechSupport: string (nullable = true)\n",
      " |-- StreamingTV: string (nullable = true)\n",
      " |-- StreamingMovies: string (nullable = true)\n",
      " |-- Contract: string (nullable = true)\n",
      " |-- PaperlessBilling: string (nullable = true)\n",
      " |-- PaymentMethod: string (nullable = true)\n",
      " |-- MonthlyCharges: double (nullable = true)\n",
      " |-- TotalCharges: double (nullable = true)\n",
      " |-- Churn: string (nullable = true)\n",
      "\n"
     ]
    }
   ],
   "source": [
    "churn_data.printSchema()"
   ]
  },
  {
   "cell_type": "code",
   "execution_count": 10,
   "id": "fb79ff48-1add-4f31-9f2f-0b3f8e511eed",
   "metadata": {},
   "outputs": [],
   "source": [
    "# # SQL Select query\n",
    "# spark.sql(\"SELECT * FROM telecom_churn\") \\\n",
    "#      .show(5)"
   ]
  },
  {
   "cell_type": "code",
   "execution_count": 11,
   "id": "9718898b-2ae1-4bf7-bec5-38332db76bd0",
   "metadata": {},
   "outputs": [
    {
     "name": "stdout",
     "output_type": "stream",
     "text": [
      "Number of rows: 100000\n",
      "Number of columns: 21\n"
     ]
    }
   ],
   "source": [
    "# Number of rows\n",
    "num_rows = churn_data.count()\n",
    "\n",
    "# Number of columns\n",
    "num_columns = len(churn_data.columns)\n",
    "\n",
    "print(f\"Number of rows: {num_rows}\")\n",
    "print(f\"Number of columns: {num_columns}\")"
   ]
  },
  {
   "cell_type": "code",
   "execution_count": 12,
   "id": "7552c623-a4b5-4e96-8910-ac286bdab3b0",
   "metadata": {},
   "outputs": [
    {
     "name": "stdout",
     "output_type": "stream",
     "text": [
      "['customerID', 'gender', 'SeniorCitizen', 'Partner', 'Dependents', 'tenure', 'PhoneService', 'MultipleLines', 'InternetService', 'OnlineSecurity', 'OnlineBackup', 'DeviceProtection', 'TechSupport', 'StreamingTV', 'StreamingMovies', 'Contract', 'PaperlessBilling', 'PaymentMethod', 'MonthlyCharges', 'TotalCharges', 'Churn']\n"
     ]
    }
   ],
   "source": [
    "header_values = churn_data.columns\n",
    "print(header_values)"
   ]
  },
  {
   "cell_type": "markdown",
   "id": "0e02276c-c8fc-411a-9a1c-e52c98b94872",
   "metadata": {},
   "source": [
    "## Feature Information\n",
    "\n",
    " - **Gender:** The customer’s gender: Male, Female\n",
    " - **Senior Citizen:** Indicates if the customer is 65 or older: Yes==1, No==0\n",
    "\n",
    " - **Phone Service:** Indicates if the customer subscribes to home phone service with the company: Yes, No\n",
    "\n",
    " - **Multiple Lines:** Indicates if the customer subscribes to multiple telephone lines with the company: Yes, No\n",
    "\n",
    " - **Internet Service:** Indicates if the customer subscribes to Internet service with the company: No, DSL, Fiber Optic, Cable.\n",
    " - **Tenure in Months:** Indicates the total amount of months that the customer has been with the company by the end of the quarter specified above.\n",
    " - **Online Security:** Indicates if the customer subscribes to an additional online security service provided by the company: Yes, No\n",
    " - **Online Backup:** Indicates if the customer subscribes to an additional online backup service provided by the company: Yes, No\n",
    " - **Device Protection Plan:** Indicates if the customer subscribes to an additional device protection plan for their Internet equipment provided by the company: Yes, No\n",
    " - **Tech Support:** Indicates if the customer subscribes to an additional technical support plan from the company with reduced wait times: Yes, No\n",
    " - **Streaming TV:** Indicates if the customer uses their Internet service to stream television programing from a third party provider: Yes, No. The company does not charge an additional fee for this service. \n",
    " - **Streaming Movies:** Indicates if the customer uses their Internet service to stream movies from a third party provider: Yes, No. The company does not charge an additional fee for this service.\n",
    " - **Contract:** Indicates the customer’s current contract type: Month-to-Month, One Year, Two Year.\n",
    " - **Paperless Billing:** Indicates if the customer has chosen paperless billing: Yes, No\n",
    " - **Payment Method:** Indicates how the customer pays their bill: Bank Withdrawal, Credit Card, Mailed Check\n",
    " - **Monthly Charge:** Indicates the customer’s current total monthly charge for all their services from the company.\n",
    " - **Total Charges:** Indicates the customer’s total charges, calculated to the end of the quarter specified above.\n",
    " - **Churn :** Yes = the customer left the company. No = the customer remained with the company. Directly related to Churn Value."
   ]
  },
  {
   "cell_type": "code",
   "execution_count": 13,
   "id": "54b3b204-49c1-46a7-b158-be4a6ca3c244",
   "metadata": {},
   "outputs": [
    {
     "name": "stdout",
     "output_type": "stream",
     "text": [
      "customerID ----> Data Type: string\n",
      "gender ----> Data Type: string\n",
      "SeniorCitizen ----> Data Type: string\n",
      "Partner ----> Data Type: string\n",
      "Dependents ----> Data Type: string\n",
      "tenure ----> Data Type: double\n",
      "PhoneService ----> Data Type: string\n",
      "MultipleLines ----> Data Type: string\n",
      "InternetService ----> Data Type: string\n",
      "OnlineSecurity ----> Data Type: string\n",
      "OnlineBackup ----> Data Type: string\n",
      "DeviceProtection ----> Data Type: string\n",
      "TechSupport ----> Data Type: string\n",
      "StreamingTV ----> Data Type: string\n",
      "StreamingMovies ----> Data Type: string\n",
      "Contract ----> Data Type: string\n",
      "PaperlessBilling ----> Data Type: string\n",
      "PaymentMethod ----> Data Type: string\n",
      "MonthlyCharges ----> Data Type: double\n",
      "TotalCharges ----> Data Type: double\n",
      "Churn ----> Data Type: string\n"
     ]
    }
   ],
   "source": [
    "# Get the data types of all columns\n",
    "data_types = churn_data.dtypes\n",
    "\n",
    "# Print the data types\n",
    "for column, dtype in data_types:\n",
    "    print(f\"{column} ----> Data Type: {dtype}\")"
   ]
  },
  {
   "cell_type": "code",
   "execution_count": 14,
   "id": "c374c7af-8e0e-4fff-aa7d-5275c64b63bf",
   "metadata": {},
   "outputs": [
    {
     "name": "stdout",
     "output_type": "stream",
     "text": [
      "-RECORD 0---------------\n",
      " customerID       | 0   \n",
      " gender           | 0   \n",
      " SeniorCitizen    | 0   \n",
      " Partner          | 0   \n",
      " Dependents       | 0   \n",
      " tenure           | 0   \n",
      " PhoneService     | 0   \n",
      " MultipleLines    | 0   \n",
      " InternetService  | 0   \n",
      " OnlineSecurity   | 0   \n",
      " OnlineBackup     | 0   \n",
      " DeviceProtection | 0   \n",
      " TechSupport      | 0   \n",
      " StreamingTV      | 0   \n",
      " StreamingMovies  | 0   \n",
      " Contract         | 0   \n",
      " PaperlessBilling | 0   \n",
      " PaymentMethod    | 0   \n",
      " MonthlyCharges   | 0   \n",
      " TotalCharges     | 11  \n",
      " Churn            | 0   \n",
      "\n"
     ]
    }
   ],
   "source": [
    "# Checking for the missing values.\n",
    "churn_data.select([count(when(isnull(c),c)).alias(c) for c in churn_data.columns]).show(vertical= True)"
   ]
  },
  {
   "cell_type": "code",
   "execution_count": 15,
   "id": "112a0e09-2bc3-4afb-9c82-d3fc8597a2d5",
   "metadata": {},
   "outputs": [],
   "source": [
    "#Repalce the null Values using imputer\n",
    "#----- Chnage\n",
    "mean_col = Imputer(\n",
    "       inputCols=['TotalCharges'], \n",
    "       outputCols=[\"{}\".format(c) for c in ['TotalCharges']]\n",
    "       ).setStrategy(\"mean\")"
   ]
  },
  {
   "cell_type": "code",
   "execution_count": 16,
   "id": "9baa5fc7-a5a4-4df3-86ad-59b87a4ee240",
   "metadata": {},
   "outputs": [],
   "source": [
    "churn_data=mean_col.fit(churn_data).transform(churn_data)"
   ]
  },
  {
   "cell_type": "code",
   "execution_count": 17,
   "id": "3bacbe99-1bda-429f-9c59-be1567d32cd4",
   "metadata": {},
   "outputs": [
    {
     "name": "stdout",
     "output_type": "stream",
     "text": [
      "-RECORD 0---------------\n",
      " customerID       | 0   \n",
      " gender           | 0   \n",
      " SeniorCitizen    | 0   \n",
      " Partner          | 0   \n",
      " Dependents       | 0   \n",
      " tenure           | 0   \n",
      " PhoneService     | 0   \n",
      " MultipleLines    | 0   \n",
      " InternetService  | 0   \n",
      " OnlineSecurity   | 0   \n",
      " OnlineBackup     | 0   \n",
      " DeviceProtection | 0   \n",
      " TechSupport      | 0   \n",
      " StreamingTV      | 0   \n",
      " StreamingMovies  | 0   \n",
      " Contract         | 0   \n",
      " PaperlessBilling | 0   \n",
      " PaymentMethod    | 0   \n",
      " MonthlyCharges   | 0   \n",
      " TotalCharges     | 0   \n",
      " Churn            | 0   \n",
      "\n"
     ]
    }
   ],
   "source": [
    "# Checking for the missing values.\n",
    "churn_data.select([count(when(isnull(c),c)).alias(c) for c in churn_data.columns]).show(vertical= True)"
   ]
  },
  {
   "cell_type": "code",
   "execution_count": 18,
   "id": "ecf59be1-3d79-40a0-9bc6-282bb7173ea1",
   "metadata": {},
   "outputs": [
    {
     "name": "stdout",
     "output_type": "stream",
     "text": [
      "Number of duplicate rows: 0\n",
      "Rows after dropping duplicates: 100000\n"
     ]
    }
   ],
   "source": [
    "# Check for duplicates\n",
    "duplicates = churn_data.groupBy(churn_data.columns).count().filter(\"count > 1\").count()\n",
    "print(f\"Number of duplicate rows: {duplicates}\")\n",
    "\n",
    "# If duplicates exist, drop them\n",
    "churn_data = churn_data.dropDuplicates()\n",
    "\n",
    "# Confirm row count after dropping duplicates\n",
    "print(f\"Rows after dropping duplicates: {churn_data.count()}\")\n"
   ]
  },
  {
   "cell_type": "code",
   "execution_count": 19,
   "id": "06caaa49-fd8a-4939-867f-8ddca94cab6c",
   "metadata": {
    "scrolled": true
   },
   "outputs": [
    {
     "name": "stdout",
     "output_type": "stream",
     "text": [
      "+-------+------------------+------------------+------------------+\n",
      "|summary|tenure            |MonthlyCharges    |TotalCharges      |\n",
      "+-------+------------------+------------------+------------------+\n",
      "|count  |100000            |100000            |100000            |\n",
      "|mean   |35.73362          |68.52964770000008 |2461.3409484043245|\n",
      "|stddev |21.334209926330324|29.485682294182872|1925.8421920648254|\n",
      "|min    |0.0               |18.0              |0.0               |\n",
      "|25%    |17.0              |43.16             |911.44            |\n",
      "|50%    |36.0              |69.02             |1984.32           |\n",
      "|75%    |54.0              |93.84             |3659.58           |\n",
      "|max    |72.0              |120.0             |8684.8            |\n",
      "+-------+------------------+------------------+------------------+\n",
      "\n"
     ]
    }
   ],
   "source": [
    "from pyspark.sql.types import NumericType\n",
    "\n",
    "# Step 1: Identify numerical columns\n",
    "numerical_columns = [field.name for field in churn_data.schema.fields if isinstance(field.dataType, NumericType)]\n",
    "\n",
    "# Step 2: Apply `summary()` to numerical columns\n",
    "summary_df = churn_data.select(numerical_columns).summary()\n",
    "\n",
    "# Show the summary statistics including percentiles\n",
    "summary_df.show(truncate=False)"
   ]
  },
  {
   "cell_type": "markdown",
   "id": "74c38476-f6a5-4815-a49e-a5f5df3e6237",
   "metadata": {},
   "source": [
    "### Insights we get from the data\n",
    "-**75% of customer having tenure less than 55 montths**\n",
    "\n",
    "-**Average monthly charges USD 64.76 where as 25% of customer pay more than USD 89.85** "
   ]
  },
  {
   "cell_type": "code",
   "execution_count": 20,
   "id": "fb49843a-8a03-4519-ac37-695c4b74ea19",
   "metadata": {},
   "outputs": [],
   "source": [
    "mongo_ip = \"mongodb://localhost:27017/acts0324.telecom_churn_data\"\n",
    "churn_data.write.format(\"com.mongodb.spark.sql.DefaultSource\")\\\n",
    "            .option(\"uri\", mongo_ip).save()"
   ]
  },
  {
   "cell_type": "code",
   "execution_count": null,
   "id": "83dfa720-cb86-4f12-971a-c176d640ab01",
   "metadata": {},
   "outputs": [],
   "source": []
  }
 ],
 "metadata": {
  "kernelspec": {
   "display_name": "Python 3 (ipykernel)",
   "language": "python",
   "name": "python3"
  },
  "language_info": {
   "codemirror_mode": {
    "name": "ipython",
    "version": 3
   },
   "file_extension": ".py",
   "mimetype": "text/x-python",
   "name": "python",
   "nbconvert_exporter": "python",
   "pygments_lexer": "ipython3",
   "version": "3.12.3"
  }
 },
 "nbformat": 4,
 "nbformat_minor": 5
}
